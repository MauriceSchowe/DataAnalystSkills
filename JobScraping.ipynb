{
 "cells": [
  {
   "cell_type": "markdown",
   "id": "e3e9c793",
   "metadata": {},
   "source": [
    "# Most In-Demand Skills for Data Analysts in Germany\n",
    "\n",
    "In this project, our objective is to extract the most sought-after skills for Data Analysts in Germany from LinkedIn."
   ]
  },
  {
   "cell_type": "code",
   "execution_count": 1,
   "id": "a02cea0c",
   "metadata": {},
   "outputs": [
    {
     "name": "stderr",
     "output_type": "stream",
     "text": [
      "[nltk_data] Downloading package punkt to\n",
      "[nltk_data]     C:\\Users\\Maurice\\AppData\\Roaming\\nltk_data...\n",
      "[nltk_data]   Package punkt is already up-to-date!\n",
      "[nltk_data] Downloading package stopwords to\n",
      "[nltk_data]     C:\\Users\\Maurice\\AppData\\Roaming\\nltk_data...\n",
      "[nltk_data]   Package stopwords is already up-to-date!\n"
     ]
    }
   ],
   "source": [
    "import requests\n",
    "from bs4 import BeautifulSoup\n",
    "from selenium import webdriver\n",
    "from selenium.webdriver.chrome.service import Service as Service\n",
    "from webdriver_manager.chrome import ChromeDriverManager\n",
    "import time\n",
    "import random\n",
    "from selenium.webdriver.common.by import By\n",
    "import os\n",
    "import codecs\n",
    "import pandas as pd\n",
    "import re\n",
    "from nltk.corpus import stopwords\n",
    "from nltk.tokenize import word_tokenize\n",
    "import nltk\n",
    "nltk.download('punkt')\n",
    "nltk.download('stopwords')\n",
    "from collections import Counter\n",
    "import matplotlib.pyplot as plt\n",
    "\n",
    "# Displaying full dataframe\n",
    "# pd.set_option('display.max_rows', None)\n",
    "# pd.set_option('display.max_columns', None)\n",
    "# pd.set_option('display.width', None)"
   ]
  },
  {
   "cell_type": "code",
   "execution_count": 2,
   "id": "ab7a4400",
   "metadata": {},
   "outputs": [],
   "source": [
    "# Total number of jobs to be scraped from LinkedIn\n",
    "num_jobs=120\n",
    "\n",
    "# Skills to extract\n",
    "skills = ['excel', 'sql', 'python', 'tableau', 'r', 'powerbi','power', 'bi', 'looker', 'hadoop', 'spark', \n",
    "    'sql', 'java', 'c++', 'javascript', 'perl', 'bash', 'git', 'docker', 'kubernetes', 'linux', 'unix', 'apache', 'nginx']"
   ]
  },
  {
   "cell_type": "markdown",
   "id": "8da7f362",
   "metadata": {},
   "source": [
    "# First Part: Functions\n",
    "\n",
    "### Saving Job HTML\n",
    "\n",
    "This function initiates a Chrome browser session, navigates to the LinkedIn website, and iterates through each data analyst job listing, saving its HTML representation into a folder on the desktop."
   ]
  },
  {
   "cell_type": "code",
   "execution_count": 3,
   "id": "7584ebbd",
   "metadata": {},
   "outputs": [],
   "source": [
    "# Extract a specified number of jobs\n",
    "def extract():\n",
    "    # Visit website in fullscreen\n",
    "    driver = webdriver.Chrome(service=Service(ChromeDriverManager().install()))\n",
    "    driver.get(\"https://de.linkedin.com/jobs/search?keywords=Data%2BAnalyst&location=Deutschland&geoId=101282230&trk=public_jobs_jobs-search-bar_search-submit&currentJobId=3909674265&position=1&pageNum=0\")\n",
    "    driver.fullscreen_window()\n",
    "    \n",
    "    # Allow time for the website to load\n",
    "    time.sleep(3)\n",
    "    \n",
    "    # Click on each job to capture its corresponding HTML file\n",
    "    for i in range(num_jobs):\n",
    "        # Select job\n",
    "        job = driver.find_element(By.XPATH, '//*[@id=\"main-content\"]/section[2]/ul/li[' + str(i + 1) + ']')\n",
    "        job.click()\n",
    "\n",
    "        # Introducing random delays to simulate human-like interaction and prevent LinkedIn from blocking access\n",
    "        time.sleep(random.randint(5, 20))\n",
    "\n",
    "        # Save HTML code\n",
    "        h = driver.page_source\n",
    "        n=os.path.join(r'C:\\Users\\Maurice\\Desktop\\LinkedInJobs\\\\' + 'Job' + str(i + 1) + '.html')\n",
    "        f = codecs.open(n, \"w\", \"utf−8\")\n",
    "        f.write(h)    \n",
    "    \n",
    "    # Close Chrome browser window\n",
    "    driver.quit()\n",
    "    print('Extracting Successful!')"
   ]
  },
  {
   "cell_type": "markdown",
   "id": "65c644c0",
   "metadata": {},
   "source": [
    "### Extracting Job Details\n",
    "\n",
    "This function parses the job title, company name, location, and job description from each HTML file into a dictionary. Subsequently, each dictionary is appended to a list."
   ]
  },
  {
   "cell_type": "code",
   "execution_count": 4,
   "id": "fc4f074b",
   "metadata": {},
   "outputs": [],
   "source": [
    "# Extracts job details from soup. Each set of job details is stored in a dictionary and subsequently appended to a list\n",
    "def transform(soup):\n",
    "    job_title_tag = soup.find('h2', class_='top-card-layout__title')\n",
    "    job_title = job_title_tag.text if job_title_tag else 'N/A'\n",
    "\n",
    "    company_tag = soup.find('a', class_='topcard__org-name-link topcard__flavor--black-link')\n",
    "    company = company_tag.text.strip() if company_tag else 'N/A'\n",
    "\n",
    "    location_tag = soup.find('span', class_='topcard__flavor topcard__flavor--bullet')\n",
    "    location = location_tag.text.strip() if location_tag else 'N/A'\n",
    "\n",
    "    description_tag = soup.find('div', class_='show-more-less-html__markup show-more-less-html__markup--clamp-after-5 relative overflow-hidden')\n",
    "    description = description_tag.text.strip() if description_tag else 'N/A'\n",
    "    \n",
    "    job = {\n",
    "        'job_title': job_title,\n",
    "        'company': company,\n",
    "        'location': location,\n",
    "        'description': description\n",
    "    }\n",
    "    \n",
    "    joblist.append(job)"
   ]
  },
  {
   "cell_type": "markdown",
   "id": "bc807a54",
   "metadata": {},
   "source": [
    "### Preprocess Job Description\n",
    "\n",
    "This function formats the job description so that we can extract the skills more easily."
   ]
  },
  {
   "cell_type": "code",
   "execution_count": 5,
   "id": "ee90a6f4",
   "metadata": {},
   "outputs": [],
   "source": [
    "def preprocess_text(text):\n",
    "    # Lowercase the text\n",
    "    text = text.lower()\n",
    "    # Remove punctuation and numbers\n",
    "    text = re.sub(r'[^\\w\\s]', '', text)\n",
    "    text = re.sub(r'\\d+', '', text)\n",
    "    # Tokenize the text\n",
    "    words = word_tokenize(text)\n",
    "    # Remove stop words\n",
    "    stop_words = set(stopwords.words('english'))\n",
    "    words = [word for word in words if word not in stop_words]\n",
    "    return words"
   ]
  },
  {
   "cell_type": "markdown",
   "id": "36b08735",
   "metadata": {},
   "source": [
    "### Extracting Skills"
   ]
  },
  {
   "cell_type": "code",
   "execution_count": 6,
   "id": "ce4257f6",
   "metadata": {},
   "outputs": [],
   "source": [
    "def extract_skills(words):\n",
    "    return [word for word in words if word in skills]"
   ]
  },
  {
   "cell_type": "markdown",
   "id": "da6a5fba",
   "metadata": {},
   "source": [
    "# Second Part: Main Script\n",
    "\n",
    "First, we run our bot and save the HTML for each job into a folder."
   ]
  },
  {
   "cell_type": "code",
   "execution_count": 9,
   "id": "7426708c",
   "metadata": {},
   "outputs": [],
   "source": [
    "extract()"
   ]
  },
  {
   "cell_type": "markdown",
   "id": "a79c0867",
   "metadata": {},
   "source": [
    "Next, we extract the job details and save them into a dataframe."
   ]
  },
  {
   "cell_type": "code",
   "execution_count": 7,
   "id": "c3301713",
   "metadata": {
    "scrolled": false
   },
   "outputs": [
    {
     "data": {
      "text/html": [
       "<div>\n",
       "<style scoped>\n",
       "    .dataframe tbody tr th:only-of-type {\n",
       "        vertical-align: middle;\n",
       "    }\n",
       "\n",
       "    .dataframe tbody tr th {\n",
       "        vertical-align: top;\n",
       "    }\n",
       "\n",
       "    .dataframe thead th {\n",
       "        text-align: right;\n",
       "    }\n",
       "</style>\n",
       "<table border=\"1\" class=\"dataframe\">\n",
       "  <thead>\n",
       "    <tr style=\"text-align: right;\">\n",
       "      <th></th>\n",
       "      <th>job_title</th>\n",
       "      <th>company</th>\n",
       "      <th>location</th>\n",
       "      <th>description</th>\n",
       "    </tr>\n",
       "  </thead>\n",
       "  <tbody>\n",
       "    <tr>\n",
       "      <th>0</th>\n",
       "      <td>Data Analyst</td>\n",
       "      <td>GLS/NXT</td>\n",
       "      <td>Berlin, Deutschland</td>\n",
       "      <td>About this positionWe are looking for a highly...</td>\n",
       "    </tr>\n",
       "    <tr>\n",
       "      <th>1</th>\n",
       "      <td>Data Analyst</td>\n",
       "      <td>Pluxee</td>\n",
       "      <td>Frankfurt/Rhein-Main</td>\n",
       "      <td>Pluxee is a global player in employee benefits...</td>\n",
       "    </tr>\n",
       "    <tr>\n",
       "      <th>2</th>\n",
       "      <td>Junior Data Analyst</td>\n",
       "      <td>GLADTOBE (former drtv.agency)</td>\n",
       "      <td>Region Stuttgart</td>\n",
       "      <td>Junior Data Analyst (All Genders)Empower brand...</td>\n",
       "    </tr>\n",
       "    <tr>\n",
       "      <th>3</th>\n",
       "      <td>Data Analyst (d/m/w)</td>\n",
       "      <td>Akkodis</td>\n",
       "      <td>Berlin, Deutschland</td>\n",
       "      <td>Sind Sie auf der Suche nach neuen und spannend...</td>\n",
       "    </tr>\n",
       "    <tr>\n",
       "      <th>4</th>\n",
       "      <td>Data Analyst</td>\n",
       "      <td>Pertemps ERP (part of Network EMEA)</td>\n",
       "      <td>Sachsen, Deutschland</td>\n",
       "      <td>NEW Urgent Role: Applications Specialist.Locat...</td>\n",
       "    </tr>\n",
       "    <tr>\n",
       "      <th>...</th>\n",
       "      <td>...</td>\n",
       "      <td>...</td>\n",
       "      <td>...</td>\n",
       "      <td>...</td>\n",
       "    </tr>\n",
       "    <tr>\n",
       "      <th>114</th>\n",
       "      <td>Data Analyst - Inventur &amp; Bestandsführung (w/m/d)</td>\n",
       "      <td>dm-drogerie markt Deutschland</td>\n",
       "      <td>Karlsruhe und Umgebung</td>\n",
       "      <td>Das Inventur-Team ist Teil des Ressorts Finanz...</td>\n",
       "    </tr>\n",
       "    <tr>\n",
       "      <th>115</th>\n",
       "      <td>Lead Data Analyst (f/m/d)</td>\n",
       "      <td>Kolibri Games</td>\n",
       "      <td>Berlin, Deutschland</td>\n",
       "      <td>Lead Data Analyst (f/m/d)As a Lead Game Data A...</td>\n",
       "    </tr>\n",
       "    <tr>\n",
       "      <th>117</th>\n",
       "      <td>Data Analyst / Performance Analyst Renewable E...</td>\n",
       "      <td>ENGIE Deutschland</td>\n",
       "      <td>Berlin</td>\n",
       "      <td>ACT NOW! At ENGIE Deutschland Erneuerbare GmbH...</td>\n",
       "    </tr>\n",
       "    <tr>\n",
       "      <th>118</th>\n",
       "      <td>Data Analyst (0 Experience Required)</td>\n",
       "      <td>Peroptyx</td>\n",
       "      <td>Berlin, Deutschland</td>\n",
       "      <td>We need people on the ground in Germany to eva...</td>\n",
       "    </tr>\n",
       "    <tr>\n",
       "      <th>119</th>\n",
       "      <td>Data &amp; Reporting Analyst (m/w/d)</td>\n",
       "      <td>secunet Security Networks AG</td>\n",
       "      <td>Essen</td>\n",
       "      <td>Für unser hoch motiviertes Team im Bereich des...</td>\n",
       "    </tr>\n",
       "  </tbody>\n",
       "</table>\n",
       "<p>111 rows × 4 columns</p>\n",
       "</div>"
      ],
      "text/plain": [
       "                                             job_title  \\\n",
       "0                                         Data Analyst   \n",
       "1                                         Data Analyst   \n",
       "2                                  Junior Data Analyst   \n",
       "3                                 Data Analyst (d/m/w)   \n",
       "4                                         Data Analyst   \n",
       "..                                                 ...   \n",
       "114  Data Analyst - Inventur & Bestandsführung (w/m/d)   \n",
       "115                          Lead Data Analyst (f/m/d)   \n",
       "117  Data Analyst / Performance Analyst Renewable E...   \n",
       "118               Data Analyst (0 Experience Required)   \n",
       "119                   Data & Reporting Analyst (m/w/d)   \n",
       "\n",
       "                                 company                location  \\\n",
       "0                                GLS/NXT     Berlin, Deutschland   \n",
       "1                                 Pluxee    Frankfurt/Rhein-Main   \n",
       "2          GLADTOBE (former drtv.agency)        Region Stuttgart   \n",
       "3                                Akkodis     Berlin, Deutschland   \n",
       "4    Pertemps ERP (part of Network EMEA)    Sachsen, Deutschland   \n",
       "..                                   ...                     ...   \n",
       "114        dm-drogerie markt Deutschland  Karlsruhe und Umgebung   \n",
       "115                        Kolibri Games     Berlin, Deutschland   \n",
       "117                    ENGIE Deutschland                  Berlin   \n",
       "118                             Peroptyx     Berlin, Deutschland   \n",
       "119         secunet Security Networks AG                   Essen   \n",
       "\n",
       "                                           description  \n",
       "0    About this positionWe are looking for a highly...  \n",
       "1    Pluxee is a global player in employee benefits...  \n",
       "2    Junior Data Analyst (All Genders)Empower brand...  \n",
       "3    Sind Sie auf der Suche nach neuen und spannend...  \n",
       "4    NEW Urgent Role: Applications Specialist.Locat...  \n",
       "..                                                 ...  \n",
       "114  Das Inventur-Team ist Teil des Ressorts Finanz...  \n",
       "115  Lead Data Analyst (f/m/d)As a Lead Game Data A...  \n",
       "117  ACT NOW! At ENGIE Deutschland Erneuerbare GmbH...  \n",
       "118  We need people on the ground in Germany to eva...  \n",
       "119  Für unser hoch motiviertes Team im Bereich des...  \n",
       "\n",
       "[111 rows x 4 columns]"
      ]
     },
     "execution_count": 7,
     "metadata": {},
     "output_type": "execute_result"
    }
   ],
   "source": [
    "# Each set of job details is stored in a dictionary and subsequently appended to this list\n",
    "joblist = []\n",
    "\n",
    "# This loop opens each HTML file and extracts the job details\n",
    "for i in range(num_jobs):\n",
    "    \n",
    "    html_file_path = r'C:\\Users\\Maurice\\Desktop\\LinkedInJobs\\\\' + 'Job' + str(i + 1) + '.html'\n",
    "\n",
    "    with open(html_file_path, 'r', encoding='utf-8') as file:\n",
    "        html_content = file.read()\n",
    "\n",
    "    soup = BeautifulSoup(html_content, 'lxml')\n",
    "    \n",
    "    transform(soup)\n",
    "    \n",
    "\n",
    "# Storing job details in a dataframe\n",
    "df = pd.DataFrame(joblist)\n",
    "\n",
    "# Include only jobs categorized as data analyst positions\n",
    "df = df[df['job_title'].str.contains('Data') & df['job_title'].str.contains('Analyst')]\n",
    "df"
   ]
  },
  {
   "cell_type": "markdown",
   "id": "ccfe2a22",
   "metadata": {},
   "source": [
    "The description will undergo preprocessing to simplify the extraction of skills."
   ]
  },
  {
   "cell_type": "code",
   "execution_count": 8,
   "id": "59b7971b",
   "metadata": {
    "scrolled": true
   },
   "outputs": [
    {
     "data": {
      "text/html": [
       "<div>\n",
       "<style scoped>\n",
       "    .dataframe tbody tr th:only-of-type {\n",
       "        vertical-align: middle;\n",
       "    }\n",
       "\n",
       "    .dataframe tbody tr th {\n",
       "        vertical-align: top;\n",
       "    }\n",
       "\n",
       "    .dataframe thead th {\n",
       "        text-align: right;\n",
       "    }\n",
       "</style>\n",
       "<table border=\"1\" class=\"dataframe\">\n",
       "  <thead>\n",
       "    <tr style=\"text-align: right;\">\n",
       "      <th></th>\n",
       "      <th>job_title</th>\n",
       "      <th>company</th>\n",
       "      <th>location</th>\n",
       "      <th>description</th>\n",
       "      <th>processed_description</th>\n",
       "    </tr>\n",
       "  </thead>\n",
       "  <tbody>\n",
       "    <tr>\n",
       "      <th>0</th>\n",
       "      <td>Data Analyst</td>\n",
       "      <td>GLS/NXT</td>\n",
       "      <td>Berlin, Deutschland</td>\n",
       "      <td>About this positionWe are looking for a highly...</td>\n",
       "      <td>[positionwe, looking, highly, motivated, exper...</td>\n",
       "    </tr>\n",
       "    <tr>\n",
       "      <th>1</th>\n",
       "      <td>Data Analyst</td>\n",
       "      <td>Pluxee</td>\n",
       "      <td>Frankfurt/Rhein-Main</td>\n",
       "      <td>Pluxee is a global player in employee benefits...</td>\n",
       "      <td>[pluxee, global, player, employee, benefits, e...</td>\n",
       "    </tr>\n",
       "    <tr>\n",
       "      <th>2</th>\n",
       "      <td>Junior Data Analyst</td>\n",
       "      <td>GLADTOBE (former drtv.agency)</td>\n",
       "      <td>Region Stuttgart</td>\n",
       "      <td>Junior Data Analyst (All Genders)Empower brand...</td>\n",
       "      <td>[junior, data, analyst, gendersempower, brands...</td>\n",
       "    </tr>\n",
       "    <tr>\n",
       "      <th>3</th>\n",
       "      <td>Data Analyst (d/m/w)</td>\n",
       "      <td>Akkodis</td>\n",
       "      <td>Berlin, Deutschland</td>\n",
       "      <td>Sind Sie auf der Suche nach neuen und spannend...</td>\n",
       "      <td>[sind, sie, auf, der, suche, nach, neuen, und,...</td>\n",
       "    </tr>\n",
       "    <tr>\n",
       "      <th>4</th>\n",
       "      <td>Data Analyst</td>\n",
       "      <td>Pertemps ERP (part of Network EMEA)</td>\n",
       "      <td>Sachsen, Deutschland</td>\n",
       "      <td>NEW Urgent Role: Applications Specialist.Locat...</td>\n",
       "      <td>[new, urgent, role, applications, specialistlo...</td>\n",
       "    </tr>\n",
       "    <tr>\n",
       "      <th>...</th>\n",
       "      <td>...</td>\n",
       "      <td>...</td>\n",
       "      <td>...</td>\n",
       "      <td>...</td>\n",
       "      <td>...</td>\n",
       "    </tr>\n",
       "    <tr>\n",
       "      <th>114</th>\n",
       "      <td>Data Analyst - Inventur &amp; Bestandsführung (w/m/d)</td>\n",
       "      <td>dm-drogerie markt Deutschland</td>\n",
       "      <td>Karlsruhe und Umgebung</td>\n",
       "      <td>Das Inventur-Team ist Teil des Ressorts Finanz...</td>\n",
       "      <td>[das, inventurteam, ist, teil, des, ressorts, ...</td>\n",
       "    </tr>\n",
       "    <tr>\n",
       "      <th>115</th>\n",
       "      <td>Lead Data Analyst (f/m/d)</td>\n",
       "      <td>Kolibri Games</td>\n",
       "      <td>Berlin, Deutschland</td>\n",
       "      <td>Lead Data Analyst (f/m/d)As a Lead Game Data A...</td>\n",
       "      <td>[lead, data, analyst, fmdas, lead, game, data,...</td>\n",
       "    </tr>\n",
       "    <tr>\n",
       "      <th>117</th>\n",
       "      <td>Data Analyst / Performance Analyst Renewable E...</td>\n",
       "      <td>ENGIE Deutschland</td>\n",
       "      <td>Berlin</td>\n",
       "      <td>ACT NOW! At ENGIE Deutschland Erneuerbare GmbH...</td>\n",
       "      <td>[act, engie, deutschland, erneuerbare, gmbh, e...</td>\n",
       "    </tr>\n",
       "    <tr>\n",
       "      <th>118</th>\n",
       "      <td>Data Analyst (0 Experience Required)</td>\n",
       "      <td>Peroptyx</td>\n",
       "      <td>Berlin, Deutschland</td>\n",
       "      <td>We need people on the ground in Germany to eva...</td>\n",
       "      <td>[need, people, ground, germany, evaluate, vali...</td>\n",
       "    </tr>\n",
       "    <tr>\n",
       "      <th>119</th>\n",
       "      <td>Data &amp; Reporting Analyst (m/w/d)</td>\n",
       "      <td>secunet Security Networks AG</td>\n",
       "      <td>Essen</td>\n",
       "      <td>Für unser hoch motiviertes Team im Bereich des...</td>\n",
       "      <td>[für, unser, hoch, motiviertes, team, im, bere...</td>\n",
       "    </tr>\n",
       "  </tbody>\n",
       "</table>\n",
       "<p>111 rows × 5 columns</p>\n",
       "</div>"
      ],
      "text/plain": [
       "                                             job_title  \\\n",
       "0                                         Data Analyst   \n",
       "1                                         Data Analyst   \n",
       "2                                  Junior Data Analyst   \n",
       "3                                 Data Analyst (d/m/w)   \n",
       "4                                         Data Analyst   \n",
       "..                                                 ...   \n",
       "114  Data Analyst - Inventur & Bestandsführung (w/m/d)   \n",
       "115                          Lead Data Analyst (f/m/d)   \n",
       "117  Data Analyst / Performance Analyst Renewable E...   \n",
       "118               Data Analyst (0 Experience Required)   \n",
       "119                   Data & Reporting Analyst (m/w/d)   \n",
       "\n",
       "                                 company                location  \\\n",
       "0                                GLS/NXT     Berlin, Deutschland   \n",
       "1                                 Pluxee    Frankfurt/Rhein-Main   \n",
       "2          GLADTOBE (former drtv.agency)        Region Stuttgart   \n",
       "3                                Akkodis     Berlin, Deutschland   \n",
       "4    Pertemps ERP (part of Network EMEA)    Sachsen, Deutschland   \n",
       "..                                   ...                     ...   \n",
       "114        dm-drogerie markt Deutschland  Karlsruhe und Umgebung   \n",
       "115                        Kolibri Games     Berlin, Deutschland   \n",
       "117                    ENGIE Deutschland                  Berlin   \n",
       "118                             Peroptyx     Berlin, Deutschland   \n",
       "119         secunet Security Networks AG                   Essen   \n",
       "\n",
       "                                           description  \\\n",
       "0    About this positionWe are looking for a highly...   \n",
       "1    Pluxee is a global player in employee benefits...   \n",
       "2    Junior Data Analyst (All Genders)Empower brand...   \n",
       "3    Sind Sie auf der Suche nach neuen und spannend...   \n",
       "4    NEW Urgent Role: Applications Specialist.Locat...   \n",
       "..                                                 ...   \n",
       "114  Das Inventur-Team ist Teil des Ressorts Finanz...   \n",
       "115  Lead Data Analyst (f/m/d)As a Lead Game Data A...   \n",
       "117  ACT NOW! At ENGIE Deutschland Erneuerbare GmbH...   \n",
       "118  We need people on the ground in Germany to eva...   \n",
       "119  Für unser hoch motiviertes Team im Bereich des...   \n",
       "\n",
       "                                 processed_description  \n",
       "0    [positionwe, looking, highly, motivated, exper...  \n",
       "1    [pluxee, global, player, employee, benefits, e...  \n",
       "2    [junior, data, analyst, gendersempower, brands...  \n",
       "3    [sind, sie, auf, der, suche, nach, neuen, und,...  \n",
       "4    [new, urgent, role, applications, specialistlo...  \n",
       "..                                                 ...  \n",
       "114  [das, inventurteam, ist, teil, des, ressorts, ...  \n",
       "115  [lead, data, analyst, fmdas, lead, game, data,...  \n",
       "117  [act, engie, deutschland, erneuerbare, gmbh, e...  \n",
       "118  [need, people, ground, germany, evaluate, vali...  \n",
       "119  [für, unser, hoch, motiviertes, team, im, bere...  \n",
       "\n",
       "[111 rows x 5 columns]"
      ]
     },
     "execution_count": 8,
     "metadata": {},
     "output_type": "execute_result"
    }
   ],
   "source": [
    "df['processed_description'] = df['description'].apply(preprocess_text)\n",
    "df"
   ]
  },
  {
   "cell_type": "markdown",
   "id": "a3ac935e",
   "metadata": {},
   "source": [
    "After preprocessing, the skills can be extracted."
   ]
  },
  {
   "cell_type": "code",
   "execution_count": 9,
   "id": "0b34104d",
   "metadata": {},
   "outputs": [],
   "source": [
    "# Apply the skill extraction to the processed descriptions\n",
    "df['skills'] = df['processed_description'].apply(extract_skills)"
   ]
  },
  {
   "cell_type": "markdown",
   "id": "dccee42e",
   "metadata": {},
   "source": [
    "Skills are counted and..."
   ]
  },
  {
   "cell_type": "code",
   "execution_count": 10,
   "id": "83b2145e",
   "metadata": {},
   "outputs": [],
   "source": [
    "# Flatten the list of skills and count the occurrences\n",
    "all_skills = [skill for sublist in df['skills'] for skill in sublist]\n",
    "skill_counts = Counter(all_skills)"
   ]
  },
  {
   "cell_type": "code",
   "execution_count": 11,
   "id": "7aea807a",
   "metadata": {},
   "outputs": [],
   "source": [
    "# PowerBi is a special case because it is often written with a space (e.g. \"power bi\", not \"powerbi\")\n",
    "if 'power' in skill_counts and 'bi' in skill_counts:\n",
    "    min_count = min(skill_counts['power'], skill_counts['bi'])\n",
    "    skill_counts['powerbi'] += min_count\n",
    "    del skill_counts['power']\n",
    "    del skill_counts['bi']"
   ]
  },
  {
   "cell_type": "markdown",
   "id": "221ec02f",
   "metadata": {},
   "source": [
    "then converted into a percentage of job listings demanding the skill."
   ]
  },
  {
   "cell_type": "code",
   "execution_count": 12,
   "id": "b933ca4a",
   "metadata": {
    "scrolled": true
   },
   "outputs": [],
   "source": [
    "# Calculate percentage of job listings demanding the skill\n",
    "for skill, count in skill_counts.items():\n",
    "    skill_counts[skill] = (count / len(df))*100"
   ]
  },
  {
   "cell_type": "markdown",
   "id": "109ce407",
   "metadata": {},
   "source": [
    "Finally, the results can be visualized."
   ]
  },
  {
   "cell_type": "code",
   "execution_count": 13,
   "id": "d8b43bed",
   "metadata": {
    "scrolled": false
   },
   "outputs": [
    {
     "data": {
      "image/png": "[encoded data removed]",
      "text/plain": [
       "<Figure size 1000x600 with 1 Axes>"
      ]
     },
     "metadata": {},
     "output_type": "display_data"
    }
   ],
   "source": [
    "# Convert the skills to a DataFrame\n",
    "most_common_skills = skill_counts.most_common()\n",
    "skill_df = pd.DataFrame(most_common_skills, columns=['Skill', 'Count'])\n",
    "\n",
    "# Plot the most common skills\n",
    "plt.figure(figsize=(10, 6))\n",
    "plt.bar(skill_df['Skill'], skill_df['Count'], color='skyblue')\n",
    "plt.xlabel('Skill')\n",
    "plt.ylabel('Percentage of Job Listings')\n",
    "plt.title('Percentage of Job Listings Demanding This Skill')\n",
    "plt.xticks(rotation=45)\n",
    "plt.show()"
   ]
  },
  {
   "cell_type": "markdown",
   "id": "65908f3e",
   "metadata": {},
   "source": [
    "In conclusion, the top five most sought-after skills for Data Analysts are PowerBI, Tableau, SQL, Python, and Excel."
   ]
  }
 ],
 "metadata": {
  "kernelspec": {
   "display_name": "Python 3 (ipykernel)",
   "language": "python",
   "name": "python3"
  },
  "language_info": {
   "codemirror_mode": {
    "name": "ipython",
    "version": 3
   },
   "file_extension": ".py",
   "mimetype": "text/x-python",
   "name": "python",
   "nbconvert_exporter": "python",
   "pygments_lexer": "ipython3",
   "version": "3.9.12"
  }
 },
 "nbformat": 4,
 "nbformat_minor": 5
}
